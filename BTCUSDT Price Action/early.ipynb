{
 "cells": [
  {
   "cell_type": "code",
   "execution_count": 28,
   "metadata": {},
   "outputs": [],
   "source": [
    "import pandas as pd\n",
    "import plotly.graph_objects as go"
   ]
  },
  {
   "cell_type": "code",
   "execution_count": 30,
   "metadata": {},
   "outputs": [
    {
     "data": {
      "text/html": [
       "<div>\n",
       "<style scoped>\n",
       "    .dataframe tbody tr th:only-of-type {\n",
       "        vertical-align: middle;\n",
       "    }\n",
       "\n",
       "    .dataframe tbody tr th {\n",
       "        vertical-align: top;\n",
       "    }\n",
       "\n",
       "    .dataframe thead th {\n",
       "        text-align: right;\n",
       "    }\n",
       "</style>\n",
       "<table border=\"1\" class=\"dataframe\">\n",
       "  <thead>\n",
       "    <tr style=\"text-align: right;\">\n",
       "      <th></th>\n",
       "      <th>Unix</th>\n",
       "      <th>Date</th>\n",
       "      <th>Symbol</th>\n",
       "      <th>Open</th>\n",
       "      <th>High</th>\n",
       "      <th>Low</th>\n",
       "      <th>Close</th>\n",
       "      <th>Volume BTC</th>\n",
       "      <th>Volume USDT</th>\n",
       "      <th>tradecount</th>\n",
       "    </tr>\n",
       "  </thead>\n",
       "  <tbody>\n",
       "    <tr>\n",
       "      <th>0</th>\n",
       "      <td>1730937600000</td>\n",
       "      <td>2024-11-07</td>\n",
       "      <td>BTCUSDT</td>\n",
       "      <td>75571.99</td>\n",
       "      <td>76849.99</td>\n",
       "      <td>74416.00</td>\n",
       "      <td>75857.89</td>\n",
       "      <td>44869.422345</td>\n",
       "      <td>3.391797e+09</td>\n",
       "      <td>5207722</td>\n",
       "    </tr>\n",
       "    <tr>\n",
       "      <th>1</th>\n",
       "      <td>1730851200000</td>\n",
       "      <td>2024-11-06</td>\n",
       "      <td>BTCUSDT</td>\n",
       "      <td>69372.01</td>\n",
       "      <td>76400.00</td>\n",
       "      <td>69298.00</td>\n",
       "      <td>75571.99</td>\n",
       "      <td>104126.994787</td>\n",
       "      <td>7.702283e+09</td>\n",
       "      <td>8434184</td>\n",
       "    </tr>\n",
       "    <tr>\n",
       "      <th>2</th>\n",
       "      <td>1730764800000</td>\n",
       "      <td>2024-11-05</td>\n",
       "      <td>BTCUSDT</td>\n",
       "      <td>67850.01</td>\n",
       "      <td>70577.91</td>\n",
       "      <td>67476.63</td>\n",
       "      <td>69372.01</td>\n",
       "      <td>33355.068880</td>\n",
       "      <td>2.310419e+09</td>\n",
       "      <td>4955644</td>\n",
       "    </tr>\n",
       "    <tr>\n",
       "      <th>3</th>\n",
       "      <td>1730678400000</td>\n",
       "      <td>2024-11-04</td>\n",
       "      <td>BTCUSDT</td>\n",
       "      <td>68775.99</td>\n",
       "      <td>69500.00</td>\n",
       "      <td>66835.00</td>\n",
       "      <td>67850.01</td>\n",
       "      <td>29800.391870</td>\n",
       "      <td>2.033902e+09</td>\n",
       "      <td>5377048</td>\n",
       "    </tr>\n",
       "    <tr>\n",
       "      <th>4</th>\n",
       "      <td>1730592000000</td>\n",
       "      <td>2024-11-03</td>\n",
       "      <td>BTCUSDT</td>\n",
       "      <td>69374.74</td>\n",
       "      <td>69391.00</td>\n",
       "      <td>67478.73</td>\n",
       "      <td>68775.99</td>\n",
       "      <td>24995.702430</td>\n",
       "      <td>1.709666e+09</td>\n",
       "      <td>3668029</td>\n",
       "    </tr>\n",
       "  </tbody>\n",
       "</table>\n",
       "</div>"
      ],
      "text/plain": [
       "            Unix        Date   Symbol      Open      High       Low     Close  \\\n",
       "0  1730937600000  2024-11-07  BTCUSDT  75571.99  76849.99  74416.00  75857.89   \n",
       "1  1730851200000  2024-11-06  BTCUSDT  69372.01  76400.00  69298.00  75571.99   \n",
       "2  1730764800000  2024-11-05  BTCUSDT  67850.01  70577.91  67476.63  69372.01   \n",
       "3  1730678400000  2024-11-04  BTCUSDT  68775.99  69500.00  66835.00  67850.01   \n",
       "4  1730592000000  2024-11-03  BTCUSDT  69374.74  69391.00  67478.73  68775.99   \n",
       "\n",
       "      Volume BTC   Volume USDT  tradecount  \n",
       "0   44869.422345  3.391797e+09     5207722  \n",
       "1  104126.994787  7.702283e+09     8434184  \n",
       "2   33355.068880  2.310419e+09     4955644  \n",
       "3   29800.391870  2.033902e+09     5377048  \n",
       "4   24995.702430  1.709666e+09     3668029  "
      ]
     },
     "execution_count": 30,
     "metadata": {},
     "output_type": "execute_result"
    }
   ],
   "source": [
    "df = pd.read_csv('Binance_BTCUSDT_d.csv', header=1)\n",
    "\n",
    "# df.columns['Unix', 'Date', 'Symbol', 'Open', 'High', 'Low', 'Close', 'Volume BTC', 'Volume USDT']\n",
    "df.head()"
   ]
  },
  {
   "cell_type": "code",
   "execution_count": 31,
   "metadata": {},
   "outputs": [],
   "source": [
    "df['Date'] = pd.to_datetime(df['Date'])"
   ]
  },
  {
   "cell_type": "code",
   "execution_count": 33,
   "metadata": {},
   "outputs": [],
   "source": [
    "fig = go.Figure(data=[go.Candlestick(x=df['Date'],\n",
    "                open=df['Open'],\n",
    "                high=df['High'],\n",
    "                low=df['Low'],\n",
    "                close=df['Close'])])"
   ]
  },
  {
   "cell_type": "code",
   "execution_count": 48,
   "metadata": {},
   "outputs": [
    {
     "ename": "ValueError",
     "evalue": "Mime type rendering requires nbformat>=4.2.0 but it is not installed",
     "output_type": "error",
     "traceback": [
      "\u001b[1;31m---------------------------------------------------------------------------\u001b[0m",
      "\u001b[1;31mValueError\u001b[0m                                Traceback (most recent call last)",
      "Cell \u001b[1;32mIn[48], line 1\u001b[0m\n\u001b[1;32m----> 1\u001b[0m \u001b[43mfig\u001b[49m\u001b[38;5;241;43m.\u001b[39;49m\u001b[43mshow\u001b[49m\u001b[43m(\u001b[49m\u001b[43m)\u001b[49m\n\u001b[0;32m      3\u001b[0m fig\u001b[38;5;241m.\u001b[39mupdate_layout(\n\u001b[0;32m      4\u001b[0m     title \u001b[38;5;241m=\u001b[39m \u001b[38;5;124m'\u001b[39m\u001b[38;5;124mBTCUSDT\u001b[39m\u001b[38;5;124m'\u001b[39m,\n\u001b[0;32m      5\u001b[0m     xaxis_title \u001b[38;5;241m=\u001b[39m \u001b[38;5;124m'\u001b[39m\u001b[38;5;124mDate\u001b[39m\u001b[38;5;124m'\u001b[39m,\n\u001b[0;32m      6\u001b[0m     yaxis_title \u001b[38;5;241m=\u001b[39m\u001b[38;5;124m'\u001b[39m\u001b[38;5;124mPrice (USDT)\u001b[39m\u001b[38;5;124m'\u001b[39m,\n\u001b[0;32m      7\u001b[0m )\n",
      "File \u001b[1;32m~\\AppData\\Local\\Programs\\Python\\Python310\\lib\\site-packages\\plotly\\basedatatypes.py:3410\u001b[0m, in \u001b[0;36mBaseFigure.show\u001b[1;34m(self, *args, **kwargs)\u001b[0m\n\u001b[0;32m   <a href='file:///c%3A/Users/ASUS/AppData/Local/Programs/Python/Python310/lib/site-packages/plotly/basedatatypes.py?line=3376'>3377</a>\u001b[0m \u001b[39m\u001b[39m\u001b[39m\"\"\"\u001b[39;00m\n\u001b[0;32m   <a href='file:///c%3A/Users/ASUS/AppData/Local/Programs/Python/Python310/lib/site-packages/plotly/basedatatypes.py?line=3377'>3378</a>\u001b[0m \u001b[39mShow a figure using either the default renderer(s) or the renderer(s)\u001b[39;00m\n\u001b[0;32m   <a href='file:///c%3A/Users/ASUS/AppData/Local/Programs/Python/Python310/lib/site-packages/plotly/basedatatypes.py?line=3378'>3379</a>\u001b[0m \u001b[39mspecified by the renderer argument\u001b[39;00m\n\u001b[1;32m   (...)\u001b[0m\n\u001b[0;32m   <a href='file:///c%3A/Users/ASUS/AppData/Local/Programs/Python/Python310/lib/site-packages/plotly/basedatatypes.py?line=3405'>3406</a>\u001b[0m \u001b[39mNone\u001b[39;00m\n\u001b[0;32m   <a href='file:///c%3A/Users/ASUS/AppData/Local/Programs/Python/Python310/lib/site-packages/plotly/basedatatypes.py?line=3406'>3407</a>\u001b[0m \u001b[39m\"\"\"\u001b[39;00m\n\u001b[0;32m   <a href='file:///c%3A/Users/ASUS/AppData/Local/Programs/Python/Python310/lib/site-packages/plotly/basedatatypes.py?line=3407'>3408</a>\u001b[0m \u001b[39mimport\u001b[39;00m \u001b[39mplotly\u001b[39;00m\u001b[39m.\u001b[39;00m\u001b[39mio\u001b[39;00m \u001b[39mas\u001b[39;00m \u001b[39mpio\u001b[39;00m\n\u001b[1;32m-> <a href='file:///c%3A/Users/ASUS/AppData/Local/Programs/Python/Python310/lib/site-packages/plotly/basedatatypes.py?line=3409'>3410</a>\u001b[0m \u001b[39mreturn\u001b[39;00m pio\u001b[39m.\u001b[39mshow(\u001b[39mself\u001b[39m, \u001b[39m*\u001b[39margs, \u001b[39m*\u001b[39m\u001b[39m*\u001b[39mkwargs)\n",
      "File \u001b[1;32m~\\AppData\\Local\\Programs\\Python\\Python310\\lib\\site-packages\\plotly\\io\\_renderers.py:394\u001b[0m, in \u001b[0;36mshow\u001b[1;34m(fig, renderer, validate, **kwargs)\u001b[0m\n\u001b[0;32m    <a href='file:///c%3A/Users/ASUS/AppData/Local/Programs/Python/Python310/lib/site-packages/plotly/io/_renderers.py?line=388'>389</a>\u001b[0m         \u001b[39mraise\u001b[39;00m \u001b[39mValueError\u001b[39;00m(\n\u001b[0;32m    <a href='file:///c%3A/Users/ASUS/AppData/Local/Programs/Python/Python310/lib/site-packages/plotly/io/_renderers.py?line=389'>390</a>\u001b[0m             \u001b[39m\"\u001b[39m\u001b[39mMime type rendering requires ipython but it is not installed\u001b[39m\u001b[39m\"\u001b[39m\n\u001b[0;32m    <a href='file:///c%3A/Users/ASUS/AppData/Local/Programs/Python/Python310/lib/site-packages/plotly/io/_renderers.py?line=390'>391</a>\u001b[0m         )\n\u001b[0;32m    <a href='file:///c%3A/Users/ASUS/AppData/Local/Programs/Python/Python310/lib/site-packages/plotly/io/_renderers.py?line=392'>393</a>\u001b[0m     \u001b[39mif\u001b[39;00m \u001b[39mnot\u001b[39;00m nbformat \u001b[39mor\u001b[39;00m Version(nbformat\u001b[39m.\u001b[39m__version__) \u001b[39m<\u001b[39m Version(\u001b[39m\"\u001b[39m\u001b[39m4.2.0\u001b[39m\u001b[39m\"\u001b[39m):\n\u001b[1;32m--> <a href='file:///c%3A/Users/ASUS/AppData/Local/Programs/Python/Python310/lib/site-packages/plotly/io/_renderers.py?line=393'>394</a>\u001b[0m         \u001b[39mraise\u001b[39;00m \u001b[39mValueError\u001b[39;00m(\n\u001b[0;32m    <a href='file:///c%3A/Users/ASUS/AppData/Local/Programs/Python/Python310/lib/site-packages/plotly/io/_renderers.py?line=394'>395</a>\u001b[0m             \u001b[39m\"\u001b[39m\u001b[39mMime type rendering requires nbformat>=4.2.0 but it is not installed\u001b[39m\u001b[39m\"\u001b[39m\n\u001b[0;32m    <a href='file:///c%3A/Users/ASUS/AppData/Local/Programs/Python/Python310/lib/site-packages/plotly/io/_renderers.py?line=395'>396</a>\u001b[0m         )\n\u001b[0;32m    <a href='file:///c%3A/Users/ASUS/AppData/Local/Programs/Python/Python310/lib/site-packages/plotly/io/_renderers.py?line=397'>398</a>\u001b[0m     ipython_display\u001b[39m.\u001b[39mdisplay(bundle, raw\u001b[39m=\u001b[39m\u001b[39mTrue\u001b[39;00m)\n\u001b[0;32m    <a href='file:///c%3A/Users/ASUS/AppData/Local/Programs/Python/Python310/lib/site-packages/plotly/io/_renderers.py?line=399'>400</a>\u001b[0m \u001b[39m# external renderers\u001b[39;00m\n",
      "\u001b[1;31mValueError\u001b[0m: Mime type rendering requires nbformat>=4.2.0 but it is not installed"
     ]
    }
   ],
   "source": [
    "fig.update_layout(\n",
    "    title = 'BTCUSDT',\n",
    "    xaxis_title = 'Date',\n",
    "    yaxis_title ='Price (USDT)',\n",
    ")"
   ]
  }
 ],
 "metadata": {
  "interpreter": {
   "hash": "7d04c2ccdc77879c44c0e38a475c5c944666b751d27f26244a0b0bd35fcecd56"
  },
  "kernelspec": {
   "display_name": "Python 3.10.4 64-bit",
   "language": "python",
   "name": "python3"
  },
  "language_info": {
   "codemirror_mode": {
    "name": "ipython",
    "version": 3
   },
   "file_extension": ".py",
   "mimetype": "text/x-python",
   "name": "python",
   "nbconvert_exporter": "python",
   "pygments_lexer": "ipython3",
   "version": "3.10.4"
  },
  "orig_nbformat": 4
 },
 "nbformat": 4,
 "nbformat_minor": 2
}
